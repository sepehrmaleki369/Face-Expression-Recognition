{
  "metadata": {
    "kernelspec": {
      "language": "python",
      "display_name": "Python 3",
      "name": "python3"
    },
    "language_info": {
      "name": "python",
      "version": "3.10.12",
      "mimetype": "text/x-python",
      "codemirror_mode": {
        "name": "ipython",
        "version": 3
      },
      "pygments_lexer": "ipython3",
      "nbconvert_exporter": "python",
      "file_extension": ".py"
    },
    "colab": {
      "provenance": []
    }
  },
  "nbformat_minor": 0,
  "nbformat": 4,
  "cells": [
    {
      "cell_type": "code",
      "source": [
        "import math\n",
        "import numpy as np\n",
        "import pandas as pd\n",
        "import seaborn as sns\n",
        "import scikitplot\n",
        "import matplotlib.pyplot as plt\n",
        "import os\n",
        "import tensorflow as tf\n",
        "from tensorflow import keras\n",
        "import cv2"
      ],
      "metadata": {
        "execution": {
          "iopub.status.busy": "2023-09-13T21:52:19.795618Z",
          "iopub.execute_input": "2023-09-13T21:52:19.796638Z",
          "iopub.status.idle": "2023-09-13T21:52:19.804128Z",
          "shell.execute_reply.started": "2023-09-13T21:52:19.796589Z",
          "shell.execute_reply": "2023-09-13T21:52:19.802493Z"
        },
        "trusted": true,
        "id": "Vrxu1_kphRzB"
      },
      "execution_count": null,
      "outputs": []
    },
    {
      "cell_type": "code",
      "source": [
        "from keras.models import Model, Sequential\n",
        "from keras.layers import Dense, Input, Dropout, Flatten, Conv2D, BatchNormalization, Activation, GlobalAveragePooling2D\n",
        "from keras.preprocessing.image import ImageDataGenerator\n",
        "from keras.applications.vgg16 import preprocess_input\n",
        "from tensorflow.keras.utils import load_img, img_to_array, to_categorical\n",
        "from tensorflow.keras.optimizers import Adam, RMSprop\n",
        "from tensorflow.keras.callbacks import ModelCheckpoint\n",
        "from sklearn.preprocessing import LabelEncoder\n",
        "from sklearn.metrics import classification_report\n",
        "from keras.applications import VGG16"
      ],
      "metadata": {
        "execution": {
          "iopub.status.busy": "2023-09-13T21:52:19.835501Z",
          "iopub.execute_input": "2023-09-13T21:52:19.836012Z",
          "iopub.status.idle": "2023-09-13T21:52:19.845246Z",
          "shell.execute_reply.started": "2023-09-13T21:52:19.835973Z",
          "shell.execute_reply": "2023-09-13T21:52:19.843640Z"
        },
        "trusted": true,
        "id": "q8k2mk7QhRze"
      },
      "execution_count": null,
      "outputs": []
    },
    {
      "cell_type": "code",
      "source": [
        "import os\n",
        "import cv2\n",
        "import numpy as np\n",
        "\n",
        "# Data preparation\n",
        "train_dir = '../input/face-expression-recognition-dataset/images/train/'\n",
        "test_dir = '../input/face-expression-recognition-dataset/images/validation/'\n",
        "\n",
        "list_files_name = ['surprise', 'fear', 'angry', 'neutral', 'sad', 'disgust', 'happy']\n",
        "\n",
        "# Define the number of samples you want to use from each class for training and testing\n",
        "num_samples_per_class = 50\n",
        "\n",
        "# Define the directories for training and testing for each emotion\n",
        "dir_list_train = [os.path.join(train_dir, emotion) for emotion in list_files_name]\n",
        "dir_list_test = [os.path.join(test_dir, emotion) for emotion in list_files_name]\n",
        "\n",
        "# Load and preprocess the limited number of training data\n",
        "def load_limited_images_from_directory(directory, num_samples):\n",
        "    images = []\n",
        "    labels = []\n",
        "    for label, emotion in enumerate(list_files_name):\n",
        "        emotion_dir = os.path.join(directory, emotion)\n",
        "        file_list = os.listdir(emotion_dir)[:num_samples]\n",
        "        for filename in file_list:\n",
        "            img = cv2.imread(os.path.join(emotion_dir, filename))\n",
        "            img = cv2.resize(img, (48, 48))\n",
        "            img = cv2.cvtColor(img, cv2.COLOR_BGR2GRAY)  # Convert to grayscale if needed\n",
        "            img = img / 255.0  # Normalize pixel values\n",
        "\n",
        "            # Create granules for the image\n",
        "            granules = []\n",
        "            for i in range(0, img.shape[0], 7):\n",
        "                for j in range(0, img.shape[1], 7):\n",
        "                    granule = img[i:i+7, j:j+7]\n",
        "                    granules.append(granule)\n",
        "\n",
        "            images.extend(granules)  # Extend the list of images with granules\n",
        "            labels.extend([label] * len(granules))  # Extend labels accordingly\n",
        "\n",
        "    return np.array(images), np.array(labels)\n",
        "\n",
        "# Load limited training data with granules\n",
        "x_train, y_train = load_limited_images_from_directory(train_dir, num_samples_per_class)\n",
        "\n",
        "# Load limited testing data with granules\n",
        "x_test, y_test = load_limited_images_from_directory(test_dir, num_samples_per_class)\n",
        "\n",
        "# Now, x_train and x_test contain granules, and y_train and y_test contain the corresponding labels.\n"
      ],
      "metadata": {
        "execution": {
          "iopub.status.busy": "2023-09-13T21:52:19.916280Z",
          "iopub.execute_input": "2023-09-13T21:52:19.916747Z",
          "iopub.status.idle": "2023-09-13T21:52:20.785601Z",
          "shell.execute_reply.started": "2023-09-13T21:52:19.916713Z",
          "shell.execute_reply": "2023-09-13T21:52:20.784294Z"
        },
        "trusted": true,
        "id": "hufIOdLYhRzi",
        "outputId": "e23aa1db-c3f3-4e22-bfcf-3d6cf69fbde4"
      },
      "execution_count": null,
      "outputs": [
        {
          "name": "stderr",
          "text": "/tmp/ipykernel_32/1707798721.py:41: VisibleDeprecationWarning: Creating an ndarray from ragged nested sequences (which is a list-or-tuple of lists-or-tuples-or ndarrays with different lengths or shapes) is deprecated. If you meant to do this, you must specify 'dtype=object' when creating the ndarray.\n  return np.array(images), np.array(labels)\n",
          "output_type": "stream"
        }
      ]
    },
    {
      "cell_type": "code",
      "source": [
        "print(len(x_train), len(y_train))\n",
        "\n"
      ],
      "metadata": {
        "execution": {
          "iopub.status.busy": "2023-09-13T21:52:20.789658Z",
          "iopub.execute_input": "2023-09-13T21:52:20.790055Z",
          "iopub.status.idle": "2023-09-13T21:52:20.795716Z",
          "shell.execute_reply.started": "2023-09-13T21:52:20.790020Z",
          "shell.execute_reply": "2023-09-13T21:52:20.794610Z"
        },
        "trusted": true,
        "id": "UFZ-cMTEhRzo",
        "outputId": "aa2825a8-2839-4269-c4a3-799ba7bfde5b"
      },
      "execution_count": null,
      "outputs": [
        {
          "name": "stdout",
          "text": "17150 17150\n",
          "output_type": "stream"
        }
      ]
    },
    {
      "cell_type": "code",
      "source": [
        "import cv2\n",
        "import numpy as np\n",
        "from tensorflow.keras.applications import VGG16\n",
        "\n",
        "# Load the pre-trained VGG16 model\n",
        "vgg = VGG16(weights='imagenet', include_top=False, input_shape=(224, 224, 3))\n",
        "\n",
        "# Function to resize granules\n",
        "def resize_granules(granules):\n",
        "    resized_granules = []\n",
        "    for granule in granules:\n",
        "        resized_granule = cv2.resize(granule, (224, 224))\n",
        "        resized_granules.append(resized_granule)\n",
        "    return np.array(resized_granules)\n",
        "\n",
        "# Resize granules for training and testing\n",
        "resized_granules_train = resize_granules(granules_train)\n",
        "resized_granules_test = resize_granules(granules_test)\n",
        "\n",
        "# Reshape the granules into appropriate 4-dimensional arrays\n",
        "resized_granules_train = resized_granules_train.reshape(-1, 224, 224, 3)\n",
        "resized_granules_test = resized_granules_test.reshape(-1, 224, 224, 3)\n",
        "\n",
        "# Function to extract features from granules using VGG16\n",
        "def extract_features(granules):\n",
        "    features = []\n",
        "    for granule in granules:\n",
        "        feature = vgg.predict(np.expand_dims(granule, axis=0))\n",
        "        features.append(feature)\n",
        "    return np.array(features)\n",
        "\n",
        "# Extract features for training and testing\n",
        "features_train = extract_features(resized_granules_train)\n",
        "features_test = extract_features(resized_granules_test)\n",
        "\n",
        "# Print VGG16 model summary\n",
        "vgg.summary()\n",
        "\n",
        "# Now, features_train and features_test contain the extracted features from the granules.\n"
      ],
      "metadata": {
        "execution": {
          "iopub.status.busy": "2023-09-13T21:52:20.797573Z",
          "iopub.execute_input": "2023-09-13T21:52:20.798233Z",
          "iopub.status.idle": "2023-09-13T21:53:43.412159Z",
          "shell.execute_reply.started": "2023-09-13T21:52:20.798191Z",
          "shell.execute_reply": "2023-09-13T21:53:43.411029Z"
        },
        "trusted": true,
        "id": "2SnHr6TshRzq",
        "outputId": "4df2f242-881d-4762-cf7e-d2022be3000b"
      },
      "execution_count": null,
      "outputs": [
        {
          "name": "stdout",
          "text": "1/1 [==============================] - 0s 441ms/step\n1/1 [==============================] - 0s 309ms/step\n1/1 [==============================] - 0s 307ms/step\n1/1 [==============================] - 0s 309ms/step\n1/1 [==============================] - 0s 303ms/step\n1/1 [==============================] - 0s 304ms/step\n1/1 [==============================] - 0s 307ms/step\n1/1 [==============================] - 0s 306ms/step\n1/1 [==============================] - 0s 309ms/step\n1/1 [==============================] - 0s 307ms/step\n1/1 [==============================] - 0s 305ms/step\n1/1 [==============================] - 0s 357ms/step\n1/1 [==============================] - 0s 303ms/step\n1/1 [==============================] - 0s 306ms/step\n1/1 [==============================] - 0s 298ms/step\n1/1 [==============================] - 0s 307ms/step\n1/1 [==============================] - 0s 311ms/step\n1/1 [==============================] - 0s 306ms/step\n1/1 [==============================] - 0s 305ms/step\n1/1 [==============================] - 0s 302ms/step\n1/1 [==============================] - 0s 302ms/step\n1/1 [==============================] - 0s 314ms/step\n1/1 [==============================] - 0s 302ms/step\n1/1 [==============================] - 0s 308ms/step\n1/1 [==============================] - 0s 301ms/step\n1/1 [==============================] - 0s 301ms/step\n1/1 [==============================] - 0s 303ms/step\n1/1 [==============================] - 0s 307ms/step\n1/1 [==============================] - 0s 306ms/step\n1/1 [==============================] - 0s 301ms/step\n1/1 [==============================] - 0s 301ms/step\n1/1 [==============================] - 0s 302ms/step\n1/1 [==============================] - 0s 410ms/step\n1/1 [==============================] - 0s 398ms/step\n1/1 [==============================] - 0s 391ms/step\n1/1 [==============================] - 0s 374ms/step\n1/1 [==============================] - 0s 304ms/step\n1/1 [==============================] - 0s 306ms/step\n1/1 [==============================] - 0s 346ms/step\n1/1 [==============================] - 0s 306ms/step\n1/1 [==============================] - 0s 300ms/step\n1/1 [==============================] - 0s 305ms/step\n1/1 [==============================] - 0s 313ms/step\n1/1 [==============================] - 0s 303ms/step\n1/1 [==============================] - 0s 305ms/step\n1/1 [==============================] - 0s 309ms/step\n1/1 [==============================] - 0s 308ms/step\n1/1 [==============================] - 0s 310ms/step\n1/1 [==============================] - 0s 306ms/step\n1/1 [==============================] - 0s 308ms/step\n1/1 [==============================] - 0s 307ms/step\n1/1 [==============================] - 0s 305ms/step\n1/1 [==============================] - 0s 302ms/step\n1/1 [==============================] - 0s 312ms/step\n1/1 [==============================] - 0s 303ms/step\n1/1 [==============================] - 0s 302ms/step\n1/1 [==============================] - 0s 311ms/step\n1/1 [==============================] - 0s 301ms/step\n1/1 [==============================] - 0s 308ms/step\n1/1 [==============================] - 0s 307ms/step\n1/1 [==============================] - 0s 308ms/step\n1/1 [==============================] - 0s 307ms/step\n1/1 [==============================] - 0s 314ms/step\n1/1 [==============================] - 0s 307ms/step\n1/1 [==============================] - 0s 309ms/step\n1/1 [==============================] - 0s 313ms/step\n1/1 [==============================] - 0s 344ms/step\n1/1 [==============================] - 0s 306ms/step\n1/1 [==============================] - 0s 310ms/step\n1/1 [==============================] - 0s 303ms/step\n1/1 [==============================] - 0s 306ms/step\n1/1 [==============================] - 0s 308ms/step\n1/1 [==============================] - 0s 302ms/step\n1/1 [==============================] - 0s 301ms/step\n1/1 [==============================] - 0s 304ms/step\n1/1 [==============================] - 0s 305ms/step\n1/1 [==============================] - 0s 302ms/step\n1/1 [==============================] - 0s 304ms/step\n1/1 [==============================] - 0s 302ms/step\n1/1 [==============================] - 0s 302ms/step\n1/1 [==============================] - 0s 306ms/step\n1/1 [==============================] - 0s 305ms/step\n1/1 [==============================] - 0s 303ms/step\n1/1 [==============================] - 0s 301ms/step\n1/1 [==============================] - 0s 305ms/step\n1/1 [==============================] - 0s 300ms/step\n1/1 [==============================] - 0s 308ms/step\n1/1 [==============================] - 0s 312ms/step\n1/1 [==============================] - 0s 309ms/step\n1/1 [==============================] - 0s 304ms/step\n1/1 [==============================] - 0s 306ms/step\n1/1 [==============================] - 0s 306ms/step\n1/1 [==============================] - 0s 304ms/step\n1/1 [==============================] - 0s 312ms/step\n1/1 [==============================] - 0s 342ms/step\n1/1 [==============================] - 0s 301ms/step\n1/1 [==============================] - 0s 300ms/step\n1/1 [==============================] - 0s 302ms/step\n1/1 [==============================] - 0s 310ms/step\n1/1 [==============================] - 0s 303ms/step\n1/1 [==============================] - 0s 303ms/step\n1/1 [==============================] - 0s 301ms/step\n1/1 [==============================] - 0s 299ms/step\n1/1 [==============================] - 0s 301ms/step\n1/1 [==============================] - 0s 302ms/step\n1/1 [==============================] - 0s 304ms/step\n1/1 [==============================] - 0s 301ms/step\n1/1 [==============================] - 0s 302ms/step\n1/1 [==============================] - 0s 298ms/step\n1/1 [==============================] - 0s 299ms/step\n1/1 [==============================] - 0s 306ms/step\n1/1 [==============================] - 0s 304ms/step\n1/1 [==============================] - 0s 304ms/step\n1/1 [==============================] - 0s 308ms/step\n1/1 [==============================] - 0s 303ms/step\n1/1 [==============================] - 0s 302ms/step\n1/1 [==============================] - 0s 298ms/step\n1/1 [==============================] - 0s 303ms/step\n1/1 [==============================] - 0s 317ms/step\n1/1 [==============================] - 0s 302ms/step\n1/1 [==============================] - 0s 336ms/step\n1/1 [==============================] - 0s 429ms/step\n1/1 [==============================] - 0s 448ms/step\n1/1 [==============================] - 0s 397ms/step\n1/1 [==============================] - 0s 312ms/step\n1/1 [==============================] - 0s 305ms/step\n1/1 [==============================] - 0s 302ms/step\n1/1 [==============================] - 0s 302ms/step\n1/1 [==============================] - 0s 305ms/step\n1/1 [==============================] - 0s 307ms/step\n1/1 [==============================] - 0s 304ms/step\n1/1 [==============================] - 0s 305ms/step\n1/1 [==============================] - 0s 305ms/step\n1/1 [==============================] - 0s 307ms/step\n1/1 [==============================] - 0s 308ms/step\n1/1 [==============================] - 0s 300ms/step\n1/1 [==============================] - 0s 303ms/step\n1/1 [==============================] - 0s 303ms/step\n1/1 [==============================] - 0s 306ms/step\n1/1 [==============================] - 0s 306ms/step\n1/1 [==============================] - 0s 302ms/step\n1/1 [==============================] - 0s 304ms/step\n1/1 [==============================] - 0s 305ms/step\n1/1 [==============================] - 0s 307ms/step\n1/1 [==============================] - 0s 307ms/step\n1/1 [==============================] - 0s 305ms/step\n1/1 [==============================] - 0s 299ms/step\n1/1 [==============================] - 0s 311ms/step\n1/1 [==============================] - 0s 307ms/step\n1/1 [==============================] - 0s 316ms/step\n1/1 [==============================] - 0s 312ms/step\n1/1 [==============================] - 0s 309ms/step\n1/1 [==============================] - 0s 301ms/step\n1/1 [==============================] - 0s 303ms/step\n1/1 [==============================] - 0s 311ms/step\n1/1 [==============================] - 0s 307ms/step\n1/1 [==============================] - 0s 302ms/step\n1/1 [==============================] - 0s 303ms/step\n1/1 [==============================] - 0s 307ms/step\n1/1 [==============================] - 0s 303ms/step\n1/1 [==============================] - 0s 304ms/step\n1/1 [==============================] - 0s 307ms/step\n1/1 [==============================] - 0s 310ms/step\n1/1 [==============================] - 0s 302ms/step\n1/1 [==============================] - 0s 305ms/step\n1/1 [==============================] - 0s 302ms/step\n1/1 [==============================] - 0s 309ms/step\n1/1 [==============================] - 0s 300ms/step\n1/1 [==============================] - 0s 303ms/step\n1/1 [==============================] - 0s 305ms/step\n1/1 [==============================] - 0s 303ms/step\n1/1 [==============================] - 0s 303ms/step\n1/1 [==============================] - 0s 303ms/step\n1/1 [==============================] - 0s 302ms/step\n1/1 [==============================] - 0s 305ms/step\n1/1 [==============================] - 0s 304ms/step\n1/1 [==============================] - 0s 305ms/step\n1/1 [==============================] - 0s 311ms/step\n1/1 [==============================] - 0s 331ms/step\n1/1 [==============================] - 0s 307ms/step\n1/1 [==============================] - 0s 312ms/step\n1/1 [==============================] - 0s 304ms/step\n1/1 [==============================] - 0s 317ms/step\n1/1 [==============================] - 0s 301ms/step\n1/1 [==============================] - 0s 300ms/step\n1/1 [==============================] - 0s 304ms/step\n1/1 [==============================] - 0s 300ms/step\n1/1 [==============================] - 0s 305ms/step\n1/1 [==============================] - 0s 308ms/step\n1/1 [==============================] - 0s 302ms/step\n1/1 [==============================] - 0s 301ms/step\n1/1 [==============================] - 0s 304ms/step\n1/1 [==============================] - 0s 305ms/step\n1/1 [==============================] - 0s 306ms/step\n1/1 [==============================] - 0s 299ms/step\n1/1 [==============================] - 0s 302ms/step\n1/1 [==============================] - 0s 313ms/step\n1/1 [==============================] - 0s 302ms/step\n1/1 [==============================] - 0s 305ms/step\n1/1 [==============================] - 0s 305ms/step\n1/1 [==============================] - 0s 308ms/step\n1/1 [==============================] - 0s 316ms/step\n1/1 [==============================] - 0s 307ms/step\n1/1 [==============================] - 0s 303ms/step\n1/1 [==============================] - 0s 303ms/step\n1/1 [==============================] - 0s 312ms/step\n1/1 [==============================] - 0s 328ms/step\n1/1 [==============================] - 0s 303ms/step\n1/1 [==============================] - 0s 438ms/step\n1/1 [==============================] - 1s 752ms/step\n1/1 [==============================] - 0s 434ms/step\n1/1 [==============================] - 0s 392ms/step\n1/1 [==============================] - 0s 326ms/step\n1/1 [==============================] - 0s 303ms/step\n1/1 [==============================] - 0s 304ms/step\n1/1 [==============================] - 0s 309ms/step\n1/1 [==============================] - 0s 304ms/step\n1/1 [==============================] - 0s 302ms/step\n1/1 [==============================] - 0s 302ms/step\n1/1 [==============================] - 0s 305ms/step\n1/1 [==============================] - 0s 307ms/step\n1/1 [==============================] - 0s 307ms/step\n1/1 [==============================] - 0s 308ms/step\n1/1 [==============================] - 0s 301ms/step\nModel: \"vgg16\"\n_________________________________________________________________\n Layer (type)                Output Shape              Param #   \n=================================================================\n input_21 (InputLayer)       [(None, 224, 224, 3)]     0         \n                                                                 \n block1_conv1 (Conv2D)       (None, 224, 224, 64)      1792      \n                                                                 \n block1_conv2 (Conv2D)       (None, 224, 224, 64)      36928     \n                                                                 \n block1_pool (MaxPooling2D)  (None, 112, 112, 64)      0         \n                                                                 \n block2_conv1 (Conv2D)       (None, 112, 112, 128)     73856     \n                                                                 \n block2_conv2 (Conv2D)       (None, 112, 112, 128)     147584    \n                                                                 \n block2_pool (MaxPooling2D)  (None, 56, 56, 128)       0         \n                                                                 \n block3_conv1 (Conv2D)       (None, 56, 56, 256)       295168    \n                                                                 \n block3_conv2 (Conv2D)       (None, 56, 56, 256)       590080    \n                                                                 \n block3_conv3 (Conv2D)       (None, 56, 56, 256)       590080    \n                                                                 \n block3_pool (MaxPooling2D)  (None, 28, 28, 256)       0         \n                                                                 \n block4_conv1 (Conv2D)       (None, 28, 28, 512)       1180160   \n                                                                 \n block4_conv2 (Conv2D)       (None, 28, 28, 512)       2359808   \n                                                                 \n block4_conv3 (Conv2D)       (None, 28, 28, 512)       2359808   \n                                                                 \n block4_pool (MaxPooling2D)  (None, 14, 14, 512)       0         \n                                                                 \n block5_conv1 (Conv2D)       (None, 14, 14, 512)       2359808   \n                                                                 \n block5_conv2 (Conv2D)       (None, 14, 14, 512)       2359808   \n                                                                 \n block5_conv3 (Conv2D)       (None, 14, 14, 512)       2359808   \n                                                                 \n block5_pool (MaxPooling2D)  (None, 7, 7, 512)         0         \n                                                                 \n=================================================================\nTotal params: 14,714,688\nTrainable params: 14,714,688\nNon-trainable params: 0\n_________________________________________________________________\n",
          "output_type": "stream"
        }
      ]
    },
    {
      "cell_type": "code",
      "source": [
        "print(len(features_train), len(features_test))"
      ],
      "metadata": {
        "execution": {
          "iopub.status.busy": "2023-09-13T21:53:43.414881Z",
          "iopub.execute_input": "2023-09-13T21:53:43.415241Z",
          "iopub.status.idle": "2023-09-13T21:53:43.421006Z",
          "shell.execute_reply.started": "2023-09-13T21:53:43.415210Z",
          "shell.execute_reply": "2023-09-13T21:53:43.419888Z"
        },
        "trusted": true,
        "id": "XNn9XCVKhRzs",
        "outputId": "06233b3f-1ab6-4443-a591-2d4d1b658017"
      },
      "execution_count": null,
      "outputs": [
        {
          "name": "stdout",
          "text": "112 112\n",
          "output_type": "stream"
        }
      ]
    },
    {
      "cell_type": "code",
      "source": [
        "def func1(features_train, features_test):\n",
        "    # feature aggregation\n",
        "    aggregated_features_train = np.mean(features_train, axis=0)\n",
        "    aggregated_features_test = np.mean(features_test, axis=0)\n",
        "\n",
        "    print(\"Feature aggregation completed.\")\n",
        "    return aggregated_features_train, aggregated_features_test\n",
        "\n",
        "aggregated_features_train, aggregated_features_test = func1(features_train, features_test)\n"
      ],
      "metadata": {
        "execution": {
          "iopub.status.busy": "2023-09-13T21:53:43.422776Z",
          "iopub.execute_input": "2023-09-13T21:53:43.423147Z",
          "iopub.status.idle": "2023-09-13T21:53:43.441211Z",
          "shell.execute_reply.started": "2023-09-13T21:53:43.423117Z",
          "shell.execute_reply": "2023-09-13T21:53:43.439880Z"
        },
        "trusted": true,
        "id": "FBwtaA08hRzv",
        "outputId": "ee707708-af85-4c22-9c64-5d2cdbc9ce07"
      },
      "execution_count": null,
      "outputs": [
        {
          "name": "stdout",
          "text": "Feature aggregation completed.\n",
          "output_type": "stream"
        }
      ]
    },
    {
      "cell_type": "code",
      "source": [
        "features_train.shape\n",
        "aggregated_features_train.shape\n"
      ],
      "metadata": {
        "execution": {
          "iopub.status.busy": "2023-09-13T21:53:43.442946Z",
          "iopub.execute_input": "2023-09-13T21:53:43.443952Z",
          "iopub.status.idle": "2023-09-13T21:53:43.452592Z",
          "shell.execute_reply.started": "2023-09-13T21:53:43.443916Z",
          "shell.execute_reply": "2023-09-13T21:53:43.451075Z"
        },
        "trusted": true,
        "id": "hmbBOBmahRzx",
        "outputId": "c8d3fa77-408f-4d87-8682-8832dd8e6f00"
      },
      "execution_count": null,
      "outputs": [
        {
          "execution_count": 333,
          "output_type": "execute_result",
          "data": {
            "text/plain": "(1, 7, 7, 512)"
          },
          "metadata": {}
        }
      ]
    },
    {
      "cell_type": "code",
      "source": [
        "# Reshape features_train and features_test\n",
        "features_train = np.reshape(features_train, (112, 7, 7, 512))\n",
        "features_test = np.reshape(features_test, (112, 7, 7, 512))\n",
        "features_train.shape\n"
      ],
      "metadata": {
        "execution": {
          "iopub.status.busy": "2023-09-13T21:53:43.454419Z",
          "iopub.execute_input": "2023-09-13T21:53:43.454755Z",
          "iopub.status.idle": "2023-09-13T21:53:43.467592Z",
          "shell.execute_reply.started": "2023-09-13T21:53:43.454725Z",
          "shell.execute_reply": "2023-09-13T21:53:43.466271Z"
        },
        "trusted": true,
        "id": "TDMqPoUMhRz0",
        "outputId": "a1f95c97-7644-4521-9597-c6f925f22b02"
      },
      "execution_count": null,
      "outputs": [
        {
          "execution_count": 334,
          "output_type": "execute_result",
          "data": {
            "text/plain": "(112, 7, 7, 512)"
          },
          "metadata": {}
        }
      ]
    },
    {
      "cell_type": "code",
      "source": [
        "keras.utils.to_categorical(y_train)\n"
      ],
      "metadata": {
        "execution": {
          "iopub.status.busy": "2023-09-13T21:53:43.469397Z",
          "iopub.execute_input": "2023-09-13T21:53:43.469968Z",
          "iopub.status.idle": "2023-09-13T21:53:43.485961Z",
          "shell.execute_reply.started": "2023-09-13T21:53:43.469934Z",
          "shell.execute_reply": "2023-09-13T21:53:43.484685Z"
        },
        "trusted": true,
        "id": "gbRufbMwhRz4",
        "outputId": "14cffb1c-5a26-4f46-9899-4083af9fd9b2"
      },
      "execution_count": null,
      "outputs": [
        {
          "execution_count": 335,
          "output_type": "execute_result",
          "data": {
            "text/plain": "array([[1., 0., 0., ..., 0., 0., 0.],\n       [1., 0., 0., ..., 0., 0., 0.],\n       [1., 0., 0., ..., 0., 0., 0.],\n       ...,\n       [0., 0., 0., ..., 0., 0., 1.],\n       [0., 0., 0., ..., 0., 0., 1.],\n       [0., 0., 0., ..., 0., 0., 1.]], dtype=float32)"
          },
          "metadata": {}
        }
      ]
    },
    {
      "cell_type": "code",
      "source": [
        "import tensorflow as tf\n",
        "from tensorflow.keras.models import Sequential\n",
        "from tensorflow.keras.layers import Conv2D, BatchNormalization, GlobalAveragePooling2D, Dropout, Flatten, Dense\n",
        "\n",
        "model = Sequential()\n",
        "\n",
        "# 1st Convolution layer\n",
        "model.add(Conv2D(256, (3, 3), strides=(1, 1), padding='same', activation='relu', input_shape=(7, 7, 512)))\n",
        "model.add(BatchNormalization())\n",
        "model.add(GlobalAveragePooling2D())\n",
        "model.add(Dropout(0.25))\n",
        "\n",
        "# Flattening\n",
        "model.add(Flatten())\n",
        "\n",
        "# 2nd Convolution layer\n",
        "model.add(Dense(128, activation='relu'))  # Added Dense layer instead of Conv2D\n",
        "model.add(BatchNormalization())\n",
        "model.add(Dropout(0.25))\n",
        "\n",
        "# Fully connected layer\n",
        "model.add(Dense(64, activation='relu'))\n",
        "model.add(BatchNormalization())\n",
        "model.add(Dropout(0.25))\n",
        "\n",
        "model.add(Dense(7, activation='softmax'))\n",
        "\n",
        "model.compile(optimizer='Adam', loss='categorical_crossentropy', metrics=['accuracy'])\n",
        "\n",
        "# Ensure that the labels are one-hot encoded for categorical_crossentropy loss\n",
        "y_train_encoded = tf.keras.utils.to_categorical(y_train, num_classes=7)\n",
        "\n",
        "# Adjust the labels to match the number of granules\n",
        "num_granules = len(features_train)\n",
        "y_train_adjusted = y_train_encoded[:num_granules]\n",
        "\n",
        "# Train the model using the extracted features and adjusted labels\n",
        "history = model.fit(features_train, y_train_adjusted, epochs=30, batch_size=32)\n",
        "# Save the training history for plotting\n",
        "training_loss = history.history['loss']\n",
        "training_accuracy = history.history['accuracy']\n",
        "\n",
        "# Print model summary\n",
        "model.summary()\n"
      ],
      "metadata": {
        "execution": {
          "iopub.status.busy": "2023-09-13T21:53:43.487531Z",
          "iopub.execute_input": "2023-09-13T21:53:43.488286Z",
          "iopub.status.idle": "2023-09-13T21:53:56.469906Z",
          "shell.execute_reply.started": "2023-09-13T21:53:43.488250Z",
          "shell.execute_reply": "2023-09-13T21:53:56.468096Z"
        },
        "trusted": true,
        "id": "jvZu-2AJhRz8",
        "outputId": "97a0e73e-8f32-4640-a12f-26048725d7f3"
      },
      "execution_count": null,
      "outputs": [
        {
          "name": "stdout",
          "text": "Epoch 1/30\n4/4 [==============================] - 2s 86ms/step - loss: 2.6106 - accuracy: 0.1429\nEpoch 2/30\n4/4 [==============================] - 0s 89ms/step - loss: 2.4492 - accuracy: 0.2054\nEpoch 3/30\n4/4 [==============================] - 0s 85ms/step - loss: 2.3669 - accuracy: 0.1786\nEpoch 4/30\n4/4 [==============================] - 0s 87ms/step - loss: 2.3966 - accuracy: 0.1250\nEpoch 5/30\n4/4 [==============================] - 0s 84ms/step - loss: 2.2791 - accuracy: 0.2054\nEpoch 6/30\n4/4 [==============================] - 0s 85ms/step - loss: 2.2486 - accuracy: 0.2679\nEpoch 7/30\n4/4 [==============================] - 0s 85ms/step - loss: 2.2517 - accuracy: 0.2589\nEpoch 8/30\n4/4 [==============================] - 0s 84ms/step - loss: 2.1055 - accuracy: 0.2768\nEpoch 9/30\n4/4 [==============================] - 0s 84ms/step - loss: 1.9985 - accuracy: 0.3393\nEpoch 10/30\n4/4 [==============================] - 0s 88ms/step - loss: 2.0105 - accuracy: 0.3125\nEpoch 11/30\n4/4 [==============================] - 0s 84ms/step - loss: 1.9452 - accuracy: 0.2857\nEpoch 12/30\n4/4 [==============================] - 0s 88ms/step - loss: 1.9067 - accuracy: 0.3482\nEpoch 13/30\n4/4 [==============================] - 0s 87ms/step - loss: 1.8817 - accuracy: 0.3750\nEpoch 14/30\n4/4 [==============================] - 0s 83ms/step - loss: 1.8228 - accuracy: 0.3929\nEpoch 15/30\n4/4 [==============================] - 0s 85ms/step - loss: 1.6643 - accuracy: 0.4375\nEpoch 16/30\n4/4 [==============================] - 0s 83ms/step - loss: 1.7116 - accuracy: 0.3750\nEpoch 17/30\n4/4 [==============================] - 0s 87ms/step - loss: 1.6322 - accuracy: 0.4107\nEpoch 18/30\n4/4 [==============================] - 0s 86ms/step - loss: 1.6448 - accuracy: 0.4464\nEpoch 19/30\n4/4 [==============================] - 0s 85ms/step - loss: 1.5619 - accuracy: 0.5714\nEpoch 20/30\n4/4 [==============================] - 0s 89ms/step - loss: 1.4224 - accuracy: 0.5804\nEpoch 21/30\n4/4 [==============================] - 0s 83ms/step - loss: 1.4023 - accuracy: 0.5804\nEpoch 22/30\n4/4 [==============================] - 0s 84ms/step - loss: 1.3584 - accuracy: 0.5625\nEpoch 23/30\n4/4 [==============================] - 0s 87ms/step - loss: 1.2587 - accuracy: 0.6518\nEpoch 24/30\n4/4 [==============================] - 0s 85ms/step - loss: 1.3782 - accuracy: 0.5446\nEpoch 25/30\n4/4 [==============================] - 0s 86ms/step - loss: 1.2598 - accuracy: 0.6964\nEpoch 26/30\n4/4 [==============================] - 0s 87ms/step - loss: 1.4174 - accuracy: 0.5179\nEpoch 27/30\n4/4 [==============================] - 0s 85ms/step - loss: 1.2064 - accuracy: 0.6518\nEpoch 28/30\n4/4 [==============================] - 0s 86ms/step - loss: 1.2473 - accuracy: 0.6786\nEpoch 29/30\n4/4 [==============================] - 0s 88ms/step - loss: 1.1422 - accuracy: 0.7411\nEpoch 30/30\n4/4 [==============================] - 0s 89ms/step - loss: 1.0656 - accuracy: 0.7500\nModel: \"sequential_25\"\n_________________________________________________________________\n Layer (type)                Output Shape              Param #   \n=================================================================\n conv2d_34 (Conv2D)          (None, 7, 7, 256)         1179904   \n                                                                 \n batch_normalization_45 (Bat  (None, 7, 7, 256)        1024      \n chNormalization)                                                \n                                                                 \n global_average_pooling2d_21  (None, 256)              0         \n  (GlobalAveragePooling2D)                                       \n                                                                 \n dropout_45 (Dropout)        (None, 256)               0         \n                                                                 \n flatten_12 (Flatten)        (None, 256)               0         \n                                                                 \n dense_36 (Dense)            (None, 128)               32896     \n                                                                 \n batch_normalization_46 (Bat  (None, 128)              512       \n chNormalization)                                                \n                                                                 \n dropout_46 (Dropout)        (None, 128)               0         \n                                                                 \n dense_37 (Dense)            (None, 64)                8256      \n                                                                 \n batch_normalization_47 (Bat  (None, 64)               256       \n chNormalization)                                                \n                                                                 \n dropout_47 (Dropout)        (None, 64)                0         \n                                                                 \n dense_38 (Dense)            (None, 7)                 455       \n                                                                 \n=================================================================\nTotal params: 1,223,303\nTrainable params: 1,222,407\nNon-trainable params: 896\n_________________________________________________________________\n",
          "output_type": "stream"
        }
      ]
    },
    {
      "cell_type": "code",
      "source": [
        "len(features_test)\n",
        "len(keras.utils.to_categorical(y_test))"
      ],
      "metadata": {
        "execution": {
          "iopub.status.busy": "2023-09-13T21:53:56.475242Z",
          "iopub.execute_input": "2023-09-13T21:53:56.475781Z",
          "iopub.status.idle": "2023-09-13T21:53:56.486712Z",
          "shell.execute_reply.started": "2023-09-13T21:53:56.475730Z",
          "shell.execute_reply": "2023-09-13T21:53:56.485099Z"
        },
        "trusted": true,
        "id": "1ubnCNUuhRz_",
        "outputId": "f0a885ad-0f00-4475-c318-2e7d6329d1b5"
      },
      "execution_count": null,
      "outputs": [
        {
          "execution_count": 337,
          "output_type": "execute_result",
          "data": {
            "text/plain": "17150"
          },
          "metadata": {}
        }
      ]
    },
    {
      "cell_type": "code",
      "source": [
        "import matplotlib.pyplot as plt\n",
        "\n",
        "y_test_encoded = tf.keras.utils.to_categorical(y_test, num_classes=7)\n",
        "\n",
        "# Adjust the labels to match the number of granules in the test set\n",
        "num_granules_test = len(features_test)\n",
        "y_test_adjusted = y_test_encoded[:num_granules_test]\n",
        "\n",
        "# Evaluate the model on the test set\n",
        "test_loss, test_acc = model.evaluate(features_test, y_test_adjusted, verbose=0)\n",
        "print('Test accuracy:', test_acc)\n",
        "print(\"Test Loss\", test_loss)\n",
        "\n"
      ],
      "metadata": {
        "execution": {
          "iopub.status.busy": "2023-09-13T21:53:56.489182Z",
          "iopub.execute_input": "2023-09-13T21:53:56.489725Z",
          "iopub.status.idle": "2023-09-13T21:53:56.950335Z",
          "shell.execute_reply.started": "2023-09-13T21:53:56.489676Z",
          "shell.execute_reply": "2023-09-13T21:53:56.949165Z"
        },
        "trusted": true,
        "id": "w7exe8byhR0A",
        "outputId": "5e04ee99-47c1-47f7-9a37-93d46f82ce58"
      },
      "execution_count": null,
      "outputs": [
        {
          "name": "stdout",
          "text": "Test accuracy: 0.9821428656578064\nTest Loss 0.5651155114173889\n",
          "output_type": "stream"
        }
      ]
    },
    {
      "cell_type": "code",
      "source": [
        "import matplotlib.pyplot as plt\n",
        "\n",
        "# Assuming you have the variables training_accuracy and training_loss\n",
        "\n",
        "# Plot training accuracy\n",
        "plt.figure(figsize=(12, 5))\n",
        "\n",
        "plt.subplot(1, 2, 1)\n",
        "plt.plot(training_accuracy, label='Training accuracy')\n",
        "plt.title('Training Accuracy')\n",
        "plt.xlabel('Epochs')\n",
        "plt.ylabel('Accuracy')\n",
        "plt.legend()\n",
        "\n",
        "# Plot training loss\n",
        "plt.subplot(1, 2, 2)\n",
        "plt.plot(training_loss, label='Training loss')\n",
        "plt.title('Training Loss')\n",
        "plt.xlabel('Epochs')\n",
        "plt.ylabel('Loss')\n",
        "plt.legend()\n",
        "\n",
        "plt.tight_layout()\n",
        "plt.show()\n"
      ],
      "metadata": {
        "execution": {
          "iopub.status.busy": "2023-09-13T21:56:04.782175Z",
          "iopub.execute_input": "2023-09-13T21:56:04.783039Z",
          "iopub.status.idle": "2023-09-13T21:56:05.505483Z",
          "shell.execute_reply.started": "2023-09-13T21:56:04.783000Z",
          "shell.execute_reply": "2023-09-13T21:56:05.504170Z"
        },
        "trusted": true,
        "id": "rZEqFRT6hR0A",
        "outputId": "3b756fe1-b107-4487-ad57-d91c289f375d"
      },
      "execution_count": null,
      "outputs": [
        {
          "output_type": "display_data",
          "data": {
            "text/plain": "<Figure size 1200x500 with 2 Axes>",
            "image/png": "[encoded data removed]"
          },
          "metadata": {}
        }
      ]
    }
  ]
}